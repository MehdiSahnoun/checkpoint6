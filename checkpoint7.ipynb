{
 "cells": [
  {
   "cell_type": "code",
   "execution_count": 14,
   "id": "c17421d3-3a72-4a03-9cbc-38155154bdcd",
   "metadata": {},
   "outputs": [],
   "source": [
    "class Point3D:\n",
    "    def __init__(self,x,y,z):\n",
    "        self.x=x\n",
    "        self.y=y\n",
    "        self.z=z"
   ]
  },
  {
   "cell_type": "code",
   "execution_count": 17,
   "id": "16f8d835-4105-4e36-b4c8-66e549941bff",
   "metadata": {},
   "outputs": [
    {
     "name": "stdout",
     "output_type": "stream",
     "text": [
      "Point3D is 2\n"
     ]
    }
   ],
   "source": [
    "my_point = Point3D(1,2,3)\n",
    "print(\"Point3D is {}\".format(my_point.y))"
   ]
  },
  {
   "cell_type": "code",
   "execution_count": 1,
   "id": "fd9dda7b-831c-4bfd-8468-22770857a316",
   "metadata": {},
   "outputs": [],
   "source": [
    "#QUESTION2"
   ]
  },
  {
   "cell_type": "code",
   "execution_count": 5,
   "id": "731bdc9b-ca50-415c-82a8-88e28f3c6d30",
   "metadata": {},
   "outputs": [],
   "source": [
    "class Rectangle():\n",
    "    def __init__(self, a, b):\n",
    "        self.length = a\n",
    "        self.width  = b\n",
    "\n",
    "    def rectangle_area(self):\n",
    "        return self.length*self.width\n",
    "\n"
   ]
  },
  {
   "cell_type": "code",
   "execution_count": 6,
   "id": "4bd9436b-c28b-4d40-9c7a-d9df441c5a31",
   "metadata": {},
   "outputs": [
    {
     "name": "stdout",
     "output_type": "stream",
     "text": [
      "12\n"
     ]
    }
   ],
   "source": [
    "newRectangle = Rectangle(4, 3)\n",
    "print(newRectangle.rectangle_area())\n"
   ]
  },
  {
   "cell_type": "code",
   "execution_count": 7,
   "id": "e1cc24a3-b1e8-4353-b4e8-2efbc67f494b",
   "metadata": {},
   "outputs": [],
   "source": [
    "#QUESTION3"
   ]
  },
  {
   "cell_type": "code",
   "execution_count": 8,
   "id": "1be6f3ca-2244-49e6-9475-a1b55a1b08f6",
   "metadata": {},
   "outputs": [],
   "source": [
    "class Circle():\n",
    "    def __init__(self, r):\n",
    "        self.radius = r\n",
    "\n",
    "    def area(self):\n",
    "        return self.radius**2*3.14\n",
    "    \n",
    "    def perimeter(self):\n",
    "        return 2*self.radius*3.14"
   ]
  },
  {
   "cell_type": "code",
   "execution_count": 9,
   "id": "d5986d90-859e-4f3b-953b-cd4196313167",
   "metadata": {},
   "outputs": [
    {
     "name": "stdout",
     "output_type": "stream",
     "text": [
      "200.96\n",
      "50.24\n"
     ]
    }
   ],
   "source": [
    "NewCircle = Circle(8)\n",
    "print(NewCircle.area())\n",
    "print(NewCircle.perimeter())\n"
   ]
  },
  {
   "cell_type": "code",
   "execution_count": 10,
   "id": "d5f63455-4c63-4e9d-a419-2490cfeb1b6f",
   "metadata": {},
   "outputs": [],
   "source": [
    "#QUESTION4"
   ]
  },
  {
   "cell_type": "code",
   "execution_count": null,
   "id": "ac6fae93-3018-4b65-97d1-603549f80c66",
   "metadata": {},
   "outputs": [],
   "source": []
  }
 ],
 "metadata": {
  "kernelspec": {
   "display_name": "Python 3",
   "language": "python",
   "name": "python3"
  },
  "language_info": {
   "codemirror_mode": {
    "name": "ipython",
    "version": 3
   },
   "file_extension": ".py",
   "mimetype": "text/x-python",
   "name": "python",
   "nbconvert_exporter": "python",
   "pygments_lexer": "ipython3",
   "version": "3.8.8"
  }
 },
 "nbformat": 4,
 "nbformat_minor": 5
}
